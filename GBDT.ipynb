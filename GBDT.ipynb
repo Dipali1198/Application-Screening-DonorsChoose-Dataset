{
 "cells": [
  {
   "cell_type": "markdown",
   "metadata": {},
   "source": [
    "<h1> GBDT </h1>"
   ]
  },
  {
   "cell_type": "code",
   "execution_count": 93,
   "metadata": {},
   "outputs": [],
   "source": [
    "import pickle\n",
    "import matplotlib.pyplot as plt\n",
    "import seaborn as sns\n",
    "from sklearn.feature_extraction.text import TfidfVectorizer\n",
    "from sklearn.feature_extraction.text import CountVectorizer\n",
    "from sklearn.metrics import confusion_matrix\n",
    "from sklearn import metrics\n",
    "from sklearn.metrics import roc_curve, auc\n",
    "import re\n",
    "from tqdm import tqdm\n",
    "import os\n",
    "import pandas as pd\n",
    "import numpy as np\n",
    "import nltk\n",
    "from nltk.sentiment.vader import SentimentIntensityAnalyzer\n",
    "from prettytable import PrettyTable\n",
    "from scipy.sparse import coo_matrix,hstack"
   ]
  },
  {
   "cell_type": "code",
   "execution_count": 2,
   "metadata": {},
   "outputs": [],
   "source": [
    "with open('glove_vectors', 'rb') as f:\n",
    "    model = pickle.load(f)\n",
    "    glove_words =  set(model.keys())"
   ]
  },
  {
   "cell_type": "code",
   "execution_count": 3,
   "metadata": {},
   "outputs": [
    {
     "name": "stdout",
     "output_type": "stream",
     "text": [
      "[nltk_data] Downloading package vader_lexicon to\n",
      "[nltk_data]     C:\\Users\\dipali\\AppData\\Roaming\\nltk_data...\n",
      "[nltk_data]   Package vader_lexicon is already up-to-date!\n"
     ]
    },
    {
     "data": {
      "text/plain": [
       "True"
      ]
     },
     "execution_count": 3,
     "metadata": {},
     "output_type": "execute_result"
    }
   ],
   "source": [
    "import nltk\n",
    "nltk.download('vader_lexicon')"
   ]
  },
  {
   "cell_type": "code",
   "execution_count": 4,
   "metadata": {},
   "outputs": [
    {
     "name": "stdout",
     "output_type": "stream",
     "text": [
      "neg: 0.01, neu: 0.745, pos: 0.245, compound: 0.9975, "
     ]
    }
   ],
   "source": [
    "sid = SentimentIntensityAnalyzer()\n",
    "for_sentiment = 'a person is a person no matter how small dr seuss i teach the smallest students with the biggest enthusiasm \\\n",
    "for learning my students learn in many different ways using all of our senses and multiple intelligences i use a wide range\\\n",
    "of techniques to help all my students succeed students in my class come from a variety of different backgrounds which makes\\\n",
    "for wonderful sharing of experiences and cultures including native americans our school is a caring community of successful \\\n",
    "learners which can be seen through collaborative student project based learning in and out of the classroom kindergarteners \\\n",
    "in my class love to work with hands on materials and have many different opportunities to practice a skill before it is\\\n",
    "mastered having the social skills to work cooperatively with friends is a crucial aspect of the kindergarten curriculum\\\n",
    "montana is the perfect place to learn about agriculture and nutrition my students love to role play in our pretend kitchen\\\n",
    "in the early childhood classroom i have had several kids ask me can we try cooking with real food i will take their idea \\\n",
    "and create common core cooking lessons where we learn important math and writing concepts while cooking delicious healthy \\\n",
    "food for snack time my students will have a grounded appreciation for the work that went into making the food and knowledge \\\n",
    "of where the ingredients came from as well as how it is healthy for their bodies this project would expand our learning of \\\n",
    "nutrition and agricultural cooking recipes by having us peel our own apples to make homemade applesauce make our own bread \\\n",
    "and mix up healthy plants from our classroom garden in the spring we will also create our own cookbooks to be printed and \\\n",
    "shared with families students will gain math and literature skills as well as a life long enjoyment for healthy cooking \\\n",
    "nannan'\n",
    "score = sid.polarity_scores(for_sentiment)\n",
    "for i in score:\n",
    "    print('{0}: {1}, '.format(i, score[i]), end='')\n"
   ]
  },
  {
   "cell_type": "code",
   "execution_count": 5,
   "metadata": {
    "colab": {},
    "colab_type": "code",
    "id": "iffa2_WGsc3H",
    "outputId": "151fc2d5-3bc1-4206-9bd2-000dbf662b31"
   },
   "outputs": [
    {
     "name": "stdout",
     "output_type": "stream",
     "text": [
      "sentiment score for sentence 1 {'neg': 0.0, 'neu': 0.213, 'pos': 0.787, 'compound': 0.5719}\n",
      "sentiment score for sentence 2 {'neg': 0.756, 'neu': 0.244, 'pos': 0.0, 'compound': -0.4767}\n",
      "sentiment score for sentence 3 {'neg': 0.0, 'neu': 1.0, 'pos': 0.0, 'compound': 0.0}\n"
     ]
    }
   ],
   "source": [
    "import nltk\n",
    "from nltk.sentiment.vader import SentimentIntensityAnalyzer\n",
    "\n",
    "\n",
    "sid = SentimentIntensityAnalyzer()\n",
    "\n",
    "sample_sentence_1='I am happy.'\n",
    "ss_1 = sid.polarity_scores(sample_sentence_1)\n",
    "print('sentiment score for sentence 1',ss_1)\n",
    "\n",
    "sample_sentence_2='I am sad.'\n",
    "ss_2 = sid.polarity_scores(sample_sentence_2)\n",
    "print('sentiment score for sentence 2',ss_2)\n",
    "\n",
    "sample_sentence_3='I am going to New Delhi tommorow.'\n",
    "ss_3 = sid.polarity_scores(sample_sentence_3)\n",
    "print('sentiment score for sentence 3',ss_3)\n"
   ]
  },
  {
   "cell_type": "markdown",
   "metadata": {
    "colab_type": "text",
    "id": "VWge-b2Zsc3Z"
   },
   "source": [
    "##  Loading Data"
   ]
  },
  {
   "cell_type": "code",
   "execution_count": 6,
   "metadata": {
    "colab": {},
    "colab_type": "code",
    "id": "WDZFu6-usc3d"
   },
   "outputs": [
    {
     "data": {
      "text/html": [
       "<div>\n",
       "<style scoped>\n",
       "    .dataframe tbody tr th:only-of-type {\n",
       "        vertical-align: middle;\n",
       "    }\n",
       "\n",
       "    .dataframe tbody tr th {\n",
       "        vertical-align: top;\n",
       "    }\n",
       "\n",
       "    .dataframe thead th {\n",
       "        text-align: right;\n",
       "    }\n",
       "</style>\n",
       "<table border=\"1\" class=\"dataframe\">\n",
       "  <thead>\n",
       "    <tr style=\"text-align: right;\">\n",
       "      <th></th>\n",
       "      <th>school_state</th>\n",
       "      <th>teacher_prefix</th>\n",
       "      <th>project_grade_category</th>\n",
       "      <th>teacher_number_of_previously_posted_projects</th>\n",
       "      <th>project_is_approved</th>\n",
       "      <th>clean_categories</th>\n",
       "      <th>clean_subcategories</th>\n",
       "      <th>essay</th>\n",
       "      <th>price</th>\n",
       "    </tr>\n",
       "  </thead>\n",
       "  <tbody>\n",
       "    <tr>\n",
       "      <th>0</th>\n",
       "      <td>ca</td>\n",
       "      <td>mrs</td>\n",
       "      <td>grades_prek_2</td>\n",
       "      <td>53</td>\n",
       "      <td>1</td>\n",
       "      <td>math_science</td>\n",
       "      <td>appliedsciences health_lifescience</td>\n",
       "      <td>i fortunate enough use fairy tale stem kits cl...</td>\n",
       "      <td>725.05</td>\n",
       "    </tr>\n",
       "    <tr>\n",
       "      <th>1</th>\n",
       "      <td>ut</td>\n",
       "      <td>ms</td>\n",
       "      <td>grades_3_5</td>\n",
       "      <td>4</td>\n",
       "      <td>1</td>\n",
       "      <td>specialneeds</td>\n",
       "      <td>specialneeds</td>\n",
       "      <td>imagine 8 9 years old you third grade classroo...</td>\n",
       "      <td>213.03</td>\n",
       "    </tr>\n",
       "  </tbody>\n",
       "</table>\n",
       "</div>"
      ],
      "text/plain": [
       "  school_state teacher_prefix project_grade_category  \\\n",
       "0           ca            mrs          grades_prek_2   \n",
       "1           ut             ms             grades_3_5   \n",
       "\n",
       "   teacher_number_of_previously_posted_projects  project_is_approved  \\\n",
       "0                                            53                    1   \n",
       "1                                             4                    1   \n",
       "\n",
       "  clean_categories                 clean_subcategories  \\\n",
       "0     math_science  appliedsciences health_lifescience   \n",
       "1     specialneeds                        specialneeds   \n",
       "\n",
       "                                               essay   price  \n",
       "0  i fortunate enough use fairy tale stem kits cl...  725.05  \n",
       "1  imagine 8 9 years old you third grade classroo...  213.03  "
      ]
     },
     "execution_count": 6,
     "metadata": {},
     "output_type": "execute_result"
    }
   ],
   "source": [
    "import pandas as pd\n",
    "data = pd.read_csv('preprocessed_data.csv',nrows = 50000)\n",
    "data.head(2)"
   ]
  },
  {
   "cell_type": "code",
   "execution_count": 7,
   "metadata": {},
   "outputs": [],
   "source": [
    "sent_score = []\n",
    "for line in data['essay']:\n",
    "    score = sid.polarity_scores(line)\n",
    "    sent_score.append(score)\n",
    "\n",
    "    "
   ]
  },
  {
   "cell_type": "code",
   "execution_count": 8,
   "metadata": {},
   "outputs": [
    {
     "data": {
      "text/html": [
       "<div>\n",
       "<style scoped>\n",
       "    .dataframe tbody tr th:only-of-type {\n",
       "        vertical-align: middle;\n",
       "    }\n",
       "\n",
       "    .dataframe tbody tr th {\n",
       "        vertical-align: top;\n",
       "    }\n",
       "\n",
       "    .dataframe thead th {\n",
       "        text-align: right;\n",
       "    }\n",
       "</style>\n",
       "<table border=\"1\" class=\"dataframe\">\n",
       "  <thead>\n",
       "    <tr style=\"text-align: right;\">\n",
       "      <th></th>\n",
       "      <th>neg</th>\n",
       "      <th>neu</th>\n",
       "      <th>pos</th>\n",
       "      <th>compound</th>\n",
       "    </tr>\n",
       "  </thead>\n",
       "  <tbody>\n",
       "    <tr>\n",
       "      <th>0</th>\n",
       "      <td>0.013</td>\n",
       "      <td>0.783</td>\n",
       "      <td>0.205</td>\n",
       "      <td>0.9867</td>\n",
       "    </tr>\n",
       "    <tr>\n",
       "      <th>1</th>\n",
       "      <td>0.072</td>\n",
       "      <td>0.680</td>\n",
       "      <td>0.248</td>\n",
       "      <td>0.9897</td>\n",
       "    </tr>\n",
       "  </tbody>\n",
       "</table>\n",
       "</div>"
      ],
      "text/plain": [
       "     neg    neu    pos  compound\n",
       "0  0.013  0.783  0.205    0.9867\n",
       "1  0.072  0.680  0.248    0.9897"
      ]
     },
     "execution_count": 8,
     "metadata": {},
     "output_type": "execute_result"
    }
   ],
   "source": [
    "sentiment_data = pd.DataFrame(sent_score)\n",
    "sentiment_data.head(2)\n"
   ]
  },
  {
   "cell_type": "code",
   "execution_count": 9,
   "metadata": {},
   "outputs": [
    {
     "data": {
      "text/html": [
       "<div>\n",
       "<style scoped>\n",
       "    .dataframe tbody tr th:only-of-type {\n",
       "        vertical-align: middle;\n",
       "    }\n",
       "\n",
       "    .dataframe tbody tr th {\n",
       "        vertical-align: top;\n",
       "    }\n",
       "\n",
       "    .dataframe thead th {\n",
       "        text-align: right;\n",
       "    }\n",
       "</style>\n",
       "<table border=\"1\" class=\"dataframe\">\n",
       "  <thead>\n",
       "    <tr style=\"text-align: right;\">\n",
       "      <th></th>\n",
       "      <th>school_state</th>\n",
       "      <th>teacher_prefix</th>\n",
       "      <th>project_grade_category</th>\n",
       "      <th>teacher_number_of_previously_posted_projects</th>\n",
       "      <th>project_is_approved</th>\n",
       "      <th>clean_categories</th>\n",
       "      <th>clean_subcategories</th>\n",
       "      <th>essay</th>\n",
       "      <th>price</th>\n",
       "      <th>neg</th>\n",
       "      <th>neu</th>\n",
       "      <th>pos</th>\n",
       "      <th>compound</th>\n",
       "    </tr>\n",
       "  </thead>\n",
       "  <tbody>\n",
       "    <tr>\n",
       "      <th>0</th>\n",
       "      <td>ca</td>\n",
       "      <td>mrs</td>\n",
       "      <td>grades_prek_2</td>\n",
       "      <td>53</td>\n",
       "      <td>1</td>\n",
       "      <td>math_science</td>\n",
       "      <td>appliedsciences health_lifescience</td>\n",
       "      <td>i fortunate enough use fairy tale stem kits cl...</td>\n",
       "      <td>725.05</td>\n",
       "      <td>0.013</td>\n",
       "      <td>0.783</td>\n",
       "      <td>0.205</td>\n",
       "      <td>0.9867</td>\n",
       "    </tr>\n",
       "    <tr>\n",
       "      <th>1</th>\n",
       "      <td>ut</td>\n",
       "      <td>ms</td>\n",
       "      <td>grades_3_5</td>\n",
       "      <td>4</td>\n",
       "      <td>1</td>\n",
       "      <td>specialneeds</td>\n",
       "      <td>specialneeds</td>\n",
       "      <td>imagine 8 9 years old you third grade classroo...</td>\n",
       "      <td>213.03</td>\n",
       "      <td>0.072</td>\n",
       "      <td>0.680</td>\n",
       "      <td>0.248</td>\n",
       "      <td>0.9897</td>\n",
       "    </tr>\n",
       "  </tbody>\n",
       "</table>\n",
       "</div>"
      ],
      "text/plain": [
       "  school_state teacher_prefix project_grade_category  \\\n",
       "0           ca            mrs          grades_prek_2   \n",
       "1           ut             ms             grades_3_5   \n",
       "\n",
       "   teacher_number_of_previously_posted_projects  project_is_approved  \\\n",
       "0                                            53                    1   \n",
       "1                                             4                    1   \n",
       "\n",
       "  clean_categories                 clean_subcategories  \\\n",
       "0     math_science  appliedsciences health_lifescience   \n",
       "1     specialneeds                        specialneeds   \n",
       "\n",
       "                                               essay   price    neg    neu  \\\n",
       "0  i fortunate enough use fairy tale stem kits cl...  725.05  0.013  0.783   \n",
       "1  imagine 8 9 years old you third grade classroo...  213.03  0.072  0.680   \n",
       "\n",
       "     pos  compound  \n",
       "0  0.205    0.9867  \n",
       "1  0.248    0.9897  "
      ]
     },
     "execution_count": 9,
     "metadata": {},
     "output_type": "execute_result"
    }
   ],
   "source": [
    "data_new = pd.concat([data,sentiment_data],axis = 1)\n",
    "data_new.head(2)"
   ]
  },
  {
   "cell_type": "code",
   "execution_count": 12,
   "metadata": {},
   "outputs": [],
   "source": [
    "data_temp = data_new.copy()"
   ]
  },
  {
   "cell_type": "code",
   "execution_count": 13,
   "metadata": {},
   "outputs": [
    {
     "data": {
      "text/html": [
       "<div>\n",
       "<style scoped>\n",
       "    .dataframe tbody tr th:only-of-type {\n",
       "        vertical-align: middle;\n",
       "    }\n",
       "\n",
       "    .dataframe tbody tr th {\n",
       "        vertical-align: top;\n",
       "    }\n",
       "\n",
       "    .dataframe thead th {\n",
       "        text-align: right;\n",
       "    }\n",
       "</style>\n",
       "<table border=\"1\" class=\"dataframe\">\n",
       "  <thead>\n",
       "    <tr style=\"text-align: right;\">\n",
       "      <th></th>\n",
       "      <th>school_state</th>\n",
       "      <th>teacher_prefix</th>\n",
       "      <th>project_grade_category</th>\n",
       "      <th>teacher_number_of_previously_posted_projects</th>\n",
       "      <th>project_is_approved</th>\n",
       "      <th>clean_categories</th>\n",
       "      <th>clean_subcategories</th>\n",
       "      <th>essay</th>\n",
       "      <th>price</th>\n",
       "      <th>neg</th>\n",
       "      <th>neu</th>\n",
       "      <th>pos</th>\n",
       "      <th>compound</th>\n",
       "    </tr>\n",
       "  </thead>\n",
       "  <tbody>\n",
       "    <tr>\n",
       "      <th>0</th>\n",
       "      <td>ca</td>\n",
       "      <td>mrs</td>\n",
       "      <td>grades_prek_2</td>\n",
       "      <td>53</td>\n",
       "      <td>1</td>\n",
       "      <td>math_science</td>\n",
       "      <td>appliedsciences health_lifescience</td>\n",
       "      <td>i fortunate enough use fairy tale stem kits cl...</td>\n",
       "      <td>725.05</td>\n",
       "      <td>0.013</td>\n",
       "      <td>0.783</td>\n",
       "      <td>0.205</td>\n",
       "      <td>0.9867</td>\n",
       "    </tr>\n",
       "    <tr>\n",
       "      <th>1</th>\n",
       "      <td>ut</td>\n",
       "      <td>ms</td>\n",
       "      <td>grades_3_5</td>\n",
       "      <td>4</td>\n",
       "      <td>1</td>\n",
       "      <td>specialneeds</td>\n",
       "      <td>specialneeds</td>\n",
       "      <td>imagine 8 9 years old you third grade classroo...</td>\n",
       "      <td>213.03</td>\n",
       "      <td>0.072</td>\n",
       "      <td>0.680</td>\n",
       "      <td>0.248</td>\n",
       "      <td>0.9897</td>\n",
       "    </tr>\n",
       "  </tbody>\n",
       "</table>\n",
       "</div>"
      ],
      "text/plain": [
       "  school_state teacher_prefix project_grade_category  \\\n",
       "0           ca            mrs          grades_prek_2   \n",
       "1           ut             ms             grades_3_5   \n",
       "\n",
       "   teacher_number_of_previously_posted_projects  project_is_approved  \\\n",
       "0                                            53                    1   \n",
       "1                                             4                    1   \n",
       "\n",
       "  clean_categories                 clean_subcategories  \\\n",
       "0     math_science  appliedsciences health_lifescience   \n",
       "1     specialneeds                        specialneeds   \n",
       "\n",
       "                                               essay   price    neg    neu  \\\n",
       "0  i fortunate enough use fairy tale stem kits cl...  725.05  0.013  0.783   \n",
       "1  imagine 8 9 years old you third grade classroo...  213.03  0.072  0.680   \n",
       "\n",
       "     pos  compound  \n",
       "0  0.205    0.9867  \n",
       "1  0.248    0.9897  "
      ]
     },
     "execution_count": 13,
     "metadata": {},
     "output_type": "execute_result"
    }
   ],
   "source": [
    "X = data_new\n",
    "X.head(2)"
   ]
  },
  {
   "cell_type": "code",
   "execution_count": 14,
   "metadata": {},
   "outputs": [
    {
     "data": {
      "text/plain": [
       "0    1\n",
       "1    1\n",
       "Name: project_is_approved, dtype: int64"
      ]
     },
     "execution_count": 14,
     "metadata": {},
     "output_type": "execute_result"
    }
   ],
   "source": [
    "y = data['project_is_approved']\n",
    "y.head(2)"
   ]
  },
  {
   "cell_type": "markdown",
   "metadata": {
    "colab_type": "text",
    "id": "6lAMFKFcsc3j"
   },
   "source": [
    "<h2> Splitting data into Train and cross validation(or test): Stratified Sampling</h2>"
   ]
  },
  {
   "cell_type": "code",
   "execution_count": 16,
   "metadata": {},
   "outputs": [],
   "source": [
    "from sklearn.model_selection import train_test_split\n",
    "X_train, X_test, y_train, y_test = train_test_split(X, y, test_size=0.33, stratify=y)\n",
    "X_train, X_cv, y_train, y_cv = train_test_split(X_train, y_train, test_size=0.33, stratify=y_train)"
   ]
  },
  {
   "cell_type": "code",
   "execution_count": 17,
   "metadata": {},
   "outputs": [
    {
     "name": "stdout",
     "output_type": "stream",
     "text": [
      "(22445, 13)\n",
      "(16500, 13)\n",
      "(11055, 13)\n",
      "(22445,)\n",
      "(16500,)\n",
      "(11055,)\n"
     ]
    }
   ],
   "source": [
    "print(X_train.shape)\n",
    "print(X_test.shape)\n",
    "print(X_cv.shape),\"  \",\n",
    "print(y_train.shape)\n",
    "print(y_test.shape)\n",
    "print(y_cv.shape)"
   ]
  },
  {
   "cell_type": "markdown",
   "metadata": {
    "colab_type": "text",
    "id": "vsALgl5Asc3u"
   },
   "source": [
    "<h2> Encoding eassay, and project_title</h2>"
   ]
  },
  {
   "cell_type": "code",
   "execution_count": 19,
   "metadata": {},
   "outputs": [
    {
     "name": "stdout",
     "output_type": "stream",
     "text": [
      "After vectorizations\n",
      "(22445, 72149) (22445,)\n",
      "(11055, 72149) (11055,)\n",
      "(16500, 72149) (16500,)\n"
     ]
    }
   ],
   "source": [
    "from sklearn.feature_extraction.text import TfidfVectorizer\n",
    "vectorizer_tfidf = TfidfVectorizer(min_df=10,ngram_range=(1,4))\n",
    "vectorizer_tfidf.fit(X_train['essay'].values)\n",
    "\n",
    "X_train_ess_tfidf = vectorizer_tfidf.transform(X_train['essay'].values)\n",
    "X_cv_ess_tfidf = vectorizer_tfidf.transform(X_cv['essay'].values)\n",
    "X_test_ess_tfidf = vectorizer_tfidf.transform(X_test['essay'].values)\n",
    "\n",
    "print(\"After vectorizations\")\n",
    "print(X_train_ess_tfidf.shape, y_train.shape)\n",
    "print(X_cv_ess_tfidf.shape, y_cv.shape)\n",
    "print(X_test_ess_tfidf.shape, y_test.shape)"
   ]
  },
  {
   "cell_type": "code",
   "execution_count": 20,
   "metadata": {},
   "outputs": [],
   "source": [
    "tfidf_model = TfidfVectorizer()\n",
    "tfidf_model.fit(data['essay'])\n",
    "dictionary = dict(zip(tfidf_model.get_feature_names(), list(tfidf_model.idf_)))\n",
    "tfidf_words = set(tfidf_model.get_feature_names())"
   ]
  },
  {
   "cell_type": "code",
   "execution_count": 21,
   "metadata": {},
   "outputs": [
    {
     "name": "stderr",
     "output_type": "stream",
     "text": [
      "100%|██████████████████████████████████████████████████████████████████████████| 22445/22445 [00:06<00:00, 3509.20it/s]\n"
     ]
    }
   ],
   "source": [
    "\n",
    "avg_w2v_vectors_train = [] \n",
    "for sentence in tqdm(X_train['essay'].values):\n",
    "    vector = np.zeros(300)\n",
    "    cnt_words = 0\n",
    "    for word in sentence.split():\n",
    "        if word in glove_words:\n",
    "            vector += model[word]\n",
    "            cnt_words +=1\n",
    "    if cnt_words !=0:\n",
    "        vector = vector / cnt_words\n",
    "    avg_w2v_vectors_train.append(vector)\n",
    "     "
   ]
  },
  {
   "cell_type": "code",
   "execution_count": 22,
   "metadata": {},
   "outputs": [
    {
     "name": "stderr",
     "output_type": "stream",
     "text": [
      "100%|██████████████████████████████████████████████████████████████████████████| 16500/16500 [00:04<00:00, 3512.08it/s]\n"
     ]
    }
   ],
   "source": [
    "avg_w2v_vectors_test = [] \n",
    "for sentence in tqdm(X_test['essay'].values):\n",
    "    vector = np.zeros(300)\n",
    "    cnt_words = 0\n",
    "    for word in sentence.split():\n",
    "        if word in glove_words:\n",
    "            vector += model[word]\n",
    "            cnt_words +=1\n",
    "    if cnt_words !=0:\n",
    "        vector = vector / cnt_words\n",
    "    avg_w2v_vectors_test.append(vector)\n",
    "     "
   ]
  },
  {
   "cell_type": "code",
   "execution_count": 23,
   "metadata": {},
   "outputs": [
    {
     "name": "stderr",
     "output_type": "stream",
     "text": [
      "100%|██████████████████████████████████████████████████████████████████████████| 11055/11055 [00:03<00:00, 3526.89it/s]\n"
     ]
    }
   ],
   "source": [
    "avg_w2v_vectors_cv = [] \n",
    "for sentence in tqdm(X_cv['essay'].values):\n",
    "    vector = np.zeros(300)\n",
    "    cnt_words = 0\n",
    "    for word in sentence.split():\n",
    "        if word in glove_words:\n",
    "            vector += model[word]\n",
    "            cnt_words +=1\n",
    "    if cnt_words !=0:\n",
    "        vector = vector / cnt_words\n",
    "    avg_w2v_vectors_cv.append(vector)\n",
    "     "
   ]
  },
  {
   "cell_type": "code",
   "execution_count": null,
   "metadata": {},
   "outputs": [],
   "source": []
  },
  {
   "cell_type": "code",
   "execution_count": 24,
   "metadata": {},
   "outputs": [
    {
     "name": "stderr",
     "output_type": "stream",
     "text": [
      "100%|███████████████████████████████████████████████████████████████████████████| 22445/22445 [00:46<00:00, 484.00it/s]\n"
     ]
    }
   ],
   "source": [
    "weigthed_tfid_train  = []\n",
    "for sentence in tqdm(X_train['essay'].values):\n",
    "    vector = np.zeros(300)\n",
    "    tf_idf_wegthed = 0\n",
    "    for word in sentence.split():\n",
    "        if (word in glove_words and word in tfidf_words):\n",
    "            vec = model[word]\n",
    "            tf_idf =  dictionary[word]*(sentence.count(word)/len(sentence.split()))\n",
    "            vector += vec*tf_idf\n",
    "            tf_idf_wegthed += tf_idf\n",
    "    if (tf_idf_wegthed != 0):\n",
    "        vector = vector / tf_idf_wegthed\n",
    "    weigthed_tfid_train.append(vector)\n",
    "    "
   ]
  },
  {
   "cell_type": "code",
   "execution_count": 25,
   "metadata": {},
   "outputs": [
    {
     "name": "stderr",
     "output_type": "stream",
     "text": [
      "100%|███████████████████████████████████████████████████████████████████████████| 16500/16500 [00:33<00:00, 498.14it/s]\n"
     ]
    }
   ],
   "source": [
    "weigthed_tfid_test  = []\n",
    "for sentence in tqdm(X_test['essay'].values):\n",
    "    vector = np.zeros(300)\n",
    "    tf_idf_wegthed = 0\n",
    "    for word in sentence.split():\n",
    "        if (word in glove_words and word in tfidf_words):\n",
    "            vec = model[word]\n",
    "            tf_idf =  dictionary[word]*(sentence.count(word)/len(sentence.split()))\n",
    "            vector += vec*tf_idf\n",
    "            tf_idf_wegthed += tf_idf\n",
    "    if (tf_idf_wegthed != 0):\n",
    "        vector = vector / tf_idf_wegthed\n",
    "    weigthed_tfid_test.append(vector)"
   ]
  },
  {
   "cell_type": "code",
   "execution_count": 26,
   "metadata": {},
   "outputs": [
    {
     "name": "stderr",
     "output_type": "stream",
     "text": [
      "100%|███████████████████████████████████████████████████████████████████████████| 11055/11055 [00:24<00:00, 446.22it/s]\n"
     ]
    }
   ],
   "source": [
    "weigthed_tfid_cv  = []\n",
    "for sentence in tqdm(X_cv['essay'].values):\n",
    "    vector = np.zeros(300)\n",
    "    tf_idf_wegthed = 0\n",
    "    for word in sentence.split():\n",
    "        if (word in glove_words and word in tfidf_words):\n",
    "            vec = model[word]\n",
    "            tf_idf =  dictionary[word]*(sentence.count(word)/len(sentence.split()))\n",
    "            vector += vec*tf_idf\n",
    "            tf_idf_wegthed += tf_idf\n",
    "    if (tf_idf_wegthed != 0):\n",
    "        vector = vector / tf_idf_wegthed\n",
    "    weigthed_tfid_cv.append(vector)"
   ]
  },
  {
   "cell_type": "code",
   "execution_count": 27,
   "metadata": {},
   "outputs": [],
   "source": [
    "weigthed_tfid_train = np.array(weigthed_tfid_train)\n",
    "weigthed_tfid_train = weigthed_tfid_train.reshape((22445,300))\n",
    "weigthed_tfid_test = np.array(weigthed_tfid_test)\n",
    "weigthed_tfid_test = weigthed_tfid_test.reshape((16500,300))\n",
    "weigthed_tfid_cv = np.array(weigthed_tfid_cv)\n",
    "weigthed_tfid_cv = weigthed_tfid_cv.reshape((11055,300))"
   ]
  },
  {
   "cell_type": "markdown",
   "metadata": {},
   "source": [
    "## Encoding numerical features"
   ]
  },
  {
   "cell_type": "code",
   "execution_count": 32,
   "metadata": {},
   "outputs": [
    {
     "name": "stdout",
     "output_type": "stream",
     "text": [
      "after reshaping\n",
      "(22445, 1) (22445,)\n",
      "(11055, 1) (11055,)\n",
      "(16500, 1) (16500,)\n",
      "====================================================================================================\n"
     ]
    }
   ],
   "source": [
    "from sklearn.preprocessing import Normalizer\n",
    "normalizer_noprojects = Normalizer()\n",
    "X_train_noprojects_norm = normalizer_noprojects.transform(X_train['teacher_number_of_previously_posted_projects'].values.reshape(1,-1))\n",
    "X_cv_noprojects_norm = normalizer_noprojects.transform(X_cv['teacher_number_of_previously_posted_projects'].values.reshape(1,-1))\n",
    "X_test_noprojects_norm = normalizer_noprojects.transform(X_test['teacher_number_of_previously_posted_projects'].values.reshape(1,-1))\n",
    "X_train_noprojects_norm = X_train_noprojects_norm.reshape(-1,1)\n",
    "X_cv_noprojects_norm = X_cv_noprojects_norm.reshape(-1,1)\n",
    "X_test_noprojects_norm = X_test_noprojects_norm.reshape(-1,1)\n",
    "print(\"after reshaping\")\n",
    "print(X_train_noprojects_norm.shape, y_train.shape)\n",
    "print(X_cv_noprojects_norm.shape, y_cv.shape)\n",
    "print(X_test_noprojects_norm.shape, y_test.shape)\n",
    "print(\"==\"*50)"
   ]
  },
  {
   "cell_type": "code",
   "execution_count": 33,
   "metadata": {},
   "outputs": [
    {
     "name": "stdout",
     "output_type": "stream",
     "text": [
      "after reshaping\n",
      "(22445, 1) (22445,)\n",
      "(11055, 1) (11055,)\n",
      "(16500, 1) (16500,)\n"
     ]
    }
   ],
   "source": [
    "from sklearn.preprocessing import Normalizer\n",
    "normalizer_price = Normalizer()\n",
    "X_train_price_norm = normalizer_price.transform(X_train['price'].values.reshape(1,-1))\n",
    "X_cv_price_norm = normalizer_price.transform(X_cv['price'].values.reshape(1,-1))\n",
    "X_test_price_norm = normalizer_price.transform(X_test['price'].values.reshape(1,-1))\n",
    "X_train_price_norm = X_train_price_norm.reshape(-1,1)\n",
    "X_cv_price_norm = X_cv_price_norm.reshape(-1,1)\n",
    "X_test_price_norm = X_test_price_norm.reshape(-1,1)\n",
    "print(\"after reshaping\")\n",
    "print(X_train_price_norm.shape, y_train.shape)\n",
    "print(X_cv_price_norm.shape, y_cv.shape)\n",
    "print(X_test_price_norm.shape, y_test.shape)"
   ]
  },
  {
   "cell_type": "markdown",
   "metadata": {},
   "source": [
    "from sklearn.preprocessing import Normalizer\n",
    "normalizer_pos = Normalizer()\n",
    "X_train_pos_norm = normalizer_pos.transform(X_train['pos'].values.reshape(1,-1))\n",
    "X_cv_pos_norm = normalizer_pos.transform(X_cv['pos'].values.reshape(1,-1))\n",
    "X_test_pos_norm = normalizer_pos.transform(X_test['pos'].values.reshape(1,-1))\n",
    "X_train_pos_norm = X_train_pos_norm.reshape(-1,1)\n",
    "X_cv_pos_norm = X_cv_pos_norm.reshape(-1,1)\n",
    "X_test_pos_norm = X_test_pos_norm.reshape(-1,1)\n",
    "print(\"after reshaping\")\n",
    "print(X_train_pos_norm.shape, y_train.shape)\n",
    "print(X_cv_pos_norm.shape, y_cv.shape)\n",
    "print(X_test_pos_norm.shape, y_test.shape)\n",
    "print(\"==\"*50)"
   ]
  },
  {
   "cell_type": "code",
   "execution_count": 35,
   "metadata": {},
   "outputs": [
    {
     "name": "stdout",
     "output_type": "stream",
     "text": [
      "after reshaping\n",
      "(22445, 1) (22445,)\n",
      "(11055, 1) (11055,)\n",
      "(16500, 1) (16500,)\n",
      "====================================================================================================\n"
     ]
    }
   ],
   "source": [
    "from sklearn.preprocessing import Normalizer\n",
    "normalizer_neg = Normalizer()\n",
    "X_train_neg_norm = normalizer_neg.transform(X_train['neg'].values.reshape(1,-1))\n",
    "X_cv_neg_norm = normalizer_neg.transform(X_cv['neg'].values.reshape(1,-1))\n",
    "X_test_neg_norm = normalizer_neg.transform(X_test['neg'].values.reshape(1,-1))\n",
    "X_train_neg_norm = X_train_neg_norm.reshape(-1,1)\n",
    "X_cv_neg_norm = X_cv_neg_norm.reshape(-1,1)\n",
    "X_test_neg_norm = X_test_neg_norm.reshape(-1,1)\n",
    "print(\"after reshaping\")\n",
    "print(X_train_neg_norm.shape, y_train.shape)\n",
    "print(X_cv_neg_norm.shape, y_cv.shape)\n",
    "print(X_test_neg_norm.shape, y_test.shape)\n",
    "print(\"==\"*50)"
   ]
  },
  {
   "cell_type": "code",
   "execution_count": 36,
   "metadata": {},
   "outputs": [
    {
     "name": "stdout",
     "output_type": "stream",
     "text": [
      "after reshaping\n",
      "(22445, 1) (22445,)\n",
      "(11055, 1) (11055,)\n",
      "(16500, 1) (16500,)\n",
      "====================================================================================================\n"
     ]
    }
   ],
   "source": [
    "from sklearn.preprocessing import Normalizer\n",
    "normalizer_neu = Normalizer()\n",
    "X_train_neu_norm = normalizer_neu.transform(X_train['neu'].values.reshape(1,-1))\n",
    "X_cv_neu_norm = normalizer_neu.transform(X_cv['neu'].values.reshape(1,-1))\n",
    "X_test_neu_norm = normalizer_neu.transform(X_test['neu'].values.reshape(1,-1))\n",
    "X_train_neu_norm = X_train_neu_norm.reshape(-1,1)\n",
    "X_cv_neu_norm = X_cv_neu_norm.reshape(-1,1)\n",
    "X_test_neu_norm = X_test_neu_norm.reshape(-1,1)\n",
    "print(\"after reshaping\")\n",
    "print(X_train_neu_norm.shape, y_train.shape)\n",
    "print(X_cv_neu_norm.shape, y_cv.shape)\n",
    "print(X_test_neu_norm.shape, y_test.shape)\n",
    "print(\"==\"*50)"
   ]
  },
  {
   "cell_type": "code",
   "execution_count": 37,
   "metadata": {},
   "outputs": [
    {
     "name": "stdout",
     "output_type": "stream",
     "text": [
      "after reshaping\n",
      "(22445, 1) (22445,)\n",
      "(11055, 1) (11055,)\n",
      "(16500, 1) (16500,)\n",
      "====================================================================================================\n"
     ]
    }
   ],
   "source": [
    "from sklearn.preprocessing import Normalizer\n",
    "normalizer_comp = Normalizer()\n",
    "X_train_comp_norm = normalizer_comp.transform(X_train['compound'].values.reshape(1,-1))\n",
    "X_cv_comp_norm = normalizer_comp.transform(X_cv['compound'].values.reshape(1,-1))\n",
    "X_test_comp_norm = normalizer_comp.transform(X_test['compound'].values.reshape(1,-1))\n",
    "X_train_comp_norm = X_train_comp_norm.reshape(-1,1)\n",
    "X_cv_comp_norm = X_cv_comp_norm.reshape(-1,1)\n",
    "X_test_comp_norm = X_test_comp_norm.reshape(-1,1)\n",
    "print(\"after reshaping\")\n",
    "print(X_train_comp_norm.shape, y_train.shape)\n",
    "print(X_cv_comp_norm.shape, y_cv.shape)\n",
    "print(X_test_comp_norm.shape, y_test.shape)\n",
    "print(\"==\"*50)"
   ]
  },
  {
   "cell_type": "markdown",
   "metadata": {},
   "source": [
    "## Encoding categorical features"
   ]
  },
  {
   "cell_type": "code",
   "execution_count": 39,
   "metadata": {},
   "outputs": [],
   "source": [
    "def EncodingMethod_of_response(X_train,category):\n",
    "    is_positive_val = dict(X_train[X_train['project_is_approved'] == 1].groupby(category).size())\n",
    "    is_negative_val = dict(X_train[X_train['project_is_approved'] == 0].groupby(category).size())\n",
    "    return is_positive_val,is_negative_val\n",
    "def getting_Response(X_train,category,is_positive_val,is_negative_val):\n",
    "    increment = dict(X_train.groupby(category).size())\n",
    "    sorted(increment)\n",
    "    list_of_category = list(increment.keys())\n",
    "    positive_prob_val = []\n",
    "    negative_prob_val = []\n",
    "    for num in increment:\n",
    "\n",
    "        if num in is_positive_val:\n",
    "            pos_nume = is_positive_val[num]\n",
    "            denomr = increment[num]\n",
    "            positive_prob_val.append(pos_nume/denomr)\n",
    "        if num not in is_positive_val:\n",
    "            positive_prob_val.append(0)\n",
    "        if num in is_negative_val:\n",
    "            neg_nume = is_negative_val[num]\n",
    "            denomr = increment[num]\n",
    "            negative_prob_val.append(neg_nume/denomr)\n",
    "        if num not in is_negative_val:\n",
    "            negative_prob_val.append(0)\n",
    "    df = pd.DataFrame({\n",
    "        \"categories\":list_of_category,\n",
    "        \"positive\":positive_prob_val,\n",
    "        \"negative\":negative_prob_val\n",
    "    })\n",
    "    \n",
    "    \n",
    "    return df\n"
   ]
  },
  {
   "cell_type": "code",
   "execution_count": 40,
   "metadata": {},
   "outputs": [],
   "source": [
    "def function_tobuildTest(X_train_n,X_test,column):\n",
    "    increment1 = dict(X_test.groupby(column).size())\n",
    "    list_positive_val = []\n",
    "    list_negative_val = []\n",
    "    num1 = list(X_train_n[\"categories\"])\n",
    "    pos_test_val = list(X_train_n[\"positive\"])\n",
    "    neg_test_val = list(X_train_n[\"negative\"])\n",
    "    test_cat = []\n",
    "    for num in increment1:\n",
    "        test_cat.append(num)\n",
    "        if num in num1:\n",
    "            list_positive_val.append(pos_test_val[num1.index(num)])\n",
    "            list_negative_val.append(neg_test_val[num1.index(num)])\n",
    "        else:\n",
    "            list_positive_val.append(0.5)\n",
    "            list_negative_val.append(0.5)\n",
    "    df = pd.DataFrame({\n",
    "    \"categories\":test_cat,\n",
    "    \"positive\":list_positive_val,\n",
    "    \"negative\":list_negative_val})\n",
    "    return df\n",
    "    \n",
    "    "
   ]
  },
  {
   "cell_type": "code",
   "execution_count": 41,
   "metadata": {},
   "outputs": [],
   "source": [
    "def function_to_buildDict(X):\n",
    "    pos_dict_score = {}\n",
    "    neg_dict_score = {}\n",
    "    num2 = list(X[\"categories\"])\n",
    "\n",
    "    pos_val = list(X[\"positive\"])\n",
    "    neg_val = list(X[\"negative\"])\n",
    "\n",
    "    for i in range(len(num2)):\n",
    "        pos_dict_score[num2[i]] = pos_val[i]\n",
    "        neg_dict_score[num2[i]] = neg_val[i]\n",
    "    return pos_dict_score,neg_dict_score"
   ]
  },
  {
   "cell_type": "code",
   "execution_count": 42,
   "metadata": {},
   "outputs": [],
   "source": [
    "def creatingList(data_temp,pos_dict_score,neg_dict_score):\n",
    "    pos_list_response = []\n",
    "    neg_list_response = []\n",
    "    for cat in data_temp:\n",
    "        if cat in pos_dict_score or neg_dict_score:\n",
    "            pos_list_response.append(pos_dict_score[cat])\n",
    "            neg_list_response.append(neg_dict_score[cat])\n",
    "    return pos_list_response,neg_list_response\n",
    "    "
   ]
  },
  {
   "cell_type": "markdown",
   "metadata": {},
   "source": [
    "##  Response encoding"
   ]
  },
  {
   "cell_type": "code",
   "execution_count": 46,
   "metadata": {},
   "outputs": [
    {
     "name": "stdout",
     "output_type": "stream",
     "text": [
      "22445 22445\n",
      "16500 16500\n",
      "11055 11055\n"
     ]
    }
   ],
   "source": [
    "is_positive_val,is_negative_val = EncodingMethod_of_response(X_train,\"teacher_prefix\")\n",
    "X_train_teachprefix_ohe = getting_Response(X_train,\"teacher_prefix\",is_positive_val,is_negative_val)\n",
    "X_test_teachprefix_ohe = function_tobuildTest(X_train_teachprefix_ohe,X_test,\"teacher_prefix\")\n",
    "X_cv_teachprefix_ohe = function_tobuildTest(X_train_teachprefix_ohe,X_cv,\"teacher_prefix\")\n",
    "\n",
    "pos_dict_score,neg_dict_score = function_to_buildDict(X_train_teachprefix_ohe)\n",
    "train_t = list(X_train[\"teacher_prefix\"])\n",
    "train_pos_teacher,train_neg_teacher = creatingList(train_t,pos_dict_score,neg_dict_score)\n",
    "pos_dict_score,neg_dict_score = function_to_buildDict(X_test_teachprefix_ohe)\n",
    "test_t = list(X_test[\"teacher_prefix\"])\n",
    "test_pos_teacher,test_neg_teacher = creatingList(test_t,pos_dict_score,neg_dict_score)\n",
    "pos_dict_score,neg_dict_score = function_to_buildDict(X_cv_teachprefix_ohe)\n",
    "cv_t = list(X_cv[\"teacher_prefix\"])\n",
    "cv_pos_teacher,cv_neg_teacher = creatingList(cv_t,pos_dict_score,neg_dict_score)\n",
    "\n",
    "print(len(train_pos_teacher),len(train_neg_teacher))\n",
    "print(len(test_pos_teacher),len(test_neg_teacher))\n",
    "print(len(cv_pos_teacher),len(cv_neg_teacher))"
   ]
  },
  {
   "cell_type": "code",
   "execution_count": 47,
   "metadata": {},
   "outputs": [],
   "source": [
    "train_pos_teacher = np.array(train_pos_teacher)\n",
    "train_pos_teacher = train_pos_teacher.reshape((22445,1))\n",
    "train_neg_teacher = np.array(train_neg_teacher)\n",
    "train_neg_teacher = train_neg_teacher .reshape((22445,1))\n",
    "\n",
    "test_pos_teacher = np.array(test_pos_teacher)\n",
    "test_pos_teacher = test_pos_teacher.reshape((16500,1))\n",
    "test_neg_teacher = np.array(test_neg_teacher)\n",
    "test_neg_teacher = test_neg_teacher.reshape((16500,1))\n",
    "\n",
    "cv_pos_teacher = np.array(cv_pos_teacher)\n",
    "cv_pos_teacher = cv_pos_teacher.reshape((11055,1))\n",
    "cv_neg_teacher = np.array(cv_neg_teacher)\n",
    "cv_neg_teacher = cv_neg_teacher.reshape((11055,1))\n"
   ]
  },
  {
   "cell_type": "code",
   "execution_count": 48,
   "metadata": {},
   "outputs": [
    {
     "name": "stdout",
     "output_type": "stream",
     "text": [
      "22445 22445\n",
      "16500 16500\n",
      "11055 11055\n"
     ]
    }
   ],
   "source": [
    "is_positive_val,is_negative_val = EncodingMethod_of_response(X_train,\"school_state\")\n",
    "X_train_schoolstate_ohe = getting_Response(X_train,\"school_state\",is_positive_val,is_negative_val)\n",
    "X_test_schoolstate_ohe = function_tobuildTest(X_train_schoolstate_ohe,X_test,\"school_state\")\n",
    "X_cv_schoolstate_ohe = function_tobuildTest(X_train_schoolstate_ohe,X_cv,\"school_state\")\n",
    "\n",
    "pos_dict_score,neg_dict_score = function_to_buildDict(X_train_schoolstate_ohe)\n",
    "train_t = list(X_train[\"school_state\"])\n",
    "train_pos_school,train_neg_school = creatingList(train_t,pos_dict_score,neg_dict_score)\n",
    "pos_dict_score,neg_dict_score = function_to_buildDict(X_test_schoolstate_ohe)\n",
    "test_t = list(X_test[\"school_state\"])\n",
    "test_pos_school,test_neg_school = creatingList(test_t,pos_dict_score,neg_dict_score)\n",
    "pos_dict_score,neg_dict_score = function_to_buildDict(X_cv_schoolstate_ohe)\n",
    "cv_t = list(X_cv[\"school_state\"])\n",
    "cv_pos_school,cv_neg_school = creatingList(cv_t,pos_dict_score,neg_dict_score)\n",
    "\n",
    "print(len(train_pos_school),len(train_neg_school))\n",
    "print(len(test_pos_school),len(test_neg_school))\n",
    "print(len(cv_pos_school),len(cv_neg_school))"
   ]
  },
  {
   "cell_type": "code",
   "execution_count": 49,
   "metadata": {},
   "outputs": [],
   "source": [
    "train_pos_school = np.array(train_pos_school)\n",
    "train_pos_school = train_pos_school.reshape((22445,1))\n",
    "train_neg_school = np.array(train_neg_school)\n",
    "train_neg_school = train_neg_school.reshape((22445,1))\n",
    "\n",
    "test_pos_school = np.array(test_pos_school)\n",
    "test_pos_school = test_pos_school.reshape((16500,1))\n",
    "test_neg_school = np.array(test_neg_school)\n",
    "test_neg_school = test_neg_school.reshape((16500,1))\n",
    "\n",
    "\n",
    "cv_pos_school = np.array(cv_pos_school)\n",
    "cv_pos_school = cv_pos_school.reshape((11055,1))\n",
    "cv_neg_school = np.array(cv_neg_school)\n",
    "cv_neg_school = cv_neg_school.reshape((11055,1))\n"
   ]
  },
  {
   "cell_type": "code",
   "execution_count": 50,
   "metadata": {},
   "outputs": [
    {
     "name": "stdout",
     "output_type": "stream",
     "text": [
      "22445 22445\n",
      "16500 16500\n",
      "11055 11055\n"
     ]
    }
   ],
   "source": [
    "is_positive_val,is_negative_val = EncodingMethod_of_response(X_train,\"clean_categories\")\n",
    "X_train_cleancat_ohe = getting_Response(X_train,\"clean_categories\",is_positive_val,is_negative_val)\n",
    "X_test_cleancat_ohe = function_tobuildTest(X_train_cleancat_ohe,X_test,\"clean_categories\")\n",
    "X_cv_cleancat_ohe = function_tobuildTest(X_train_cleancat_ohe,X_cv,\"clean_categories\")\n",
    "\n",
    "pos_dict_score,neg_dict_score = function_to_buildDict(X_train_cleancat_ohe)\n",
    "train_t = list(X_train[\"clean_categories\"])\n",
    "train_pos_cleancat,train_neg_cleancat = creatingList(train_t,pos_dict_score,neg_dict_score)\n",
    "pos_dict_score,neg_dict_score = function_to_buildDict(X_test_cleancat_ohe)\n",
    "test_t = list(X_test[\"clean_categories\"])\n",
    "test_pos_cleancat,test_neg_cleancat = creatingList(test_t,pos_dict_score,neg_dict_score)\n",
    "pos_dict_score,neg_dict_score = function_to_buildDict(X_cv_cleancat_ohe)\n",
    "cv_t = list(X_cv[\"clean_categories\"])\n",
    "cv_pos_cleancat,cv_neg_cleancat = creatingList(cv_t,pos_dict_score,neg_dict_score)\n",
    "\n",
    "\n",
    "print(len(train_pos_cleancat),len(train_neg_cleancat))\n",
    "print(len(test_pos_cleancat),len(test_neg_cleancat))\n",
    "print(len(cv_pos_cleancat),len(cv_neg_cleancat))"
   ]
  },
  {
   "cell_type": "code",
   "execution_count": 51,
   "metadata": {},
   "outputs": [],
   "source": [
    "train_pos_cleancat = np.array(train_pos_cleancat)\n",
    "train_pos_cleancat = train_pos_cleancat.reshape((22445,1))\n",
    "train_neg_cleancat = np.array(train_neg_cleancat)\n",
    "train_neg_cleancat = train_neg_cleancat.reshape((22445,1))\n",
    "\n",
    "test_pos_cleancat = np.array(test_pos_cleancat)\n",
    "test_pos_cleancat = test_pos_cleancat.reshape((16500,1))\n",
    "test_neg_cleancat = np.array(test_neg_cleancat)\n",
    "test_neg_cleancat = test_neg_cleancat.reshape((16500,1))\n",
    "\n",
    "\n",
    "cv_pos_cleancat = np.array(cv_pos_cleancat)\n",
    "cv_pos_cleancat = cv_pos_cleancat.reshape((11055,1))\n",
    "cv_neg_cleancat = np.array(cv_neg_cleancat)\n",
    "cv_neg_cleancat = cv_neg_cleancat.reshape((11055,1))\n"
   ]
  },
  {
   "cell_type": "code",
   "execution_count": 52,
   "metadata": {},
   "outputs": [
    {
     "name": "stdout",
     "output_type": "stream",
     "text": [
      "22445 22445\n",
      "16500 16500\n",
      "11055 11055\n"
     ]
    }
   ],
   "source": [
    "is_positive_val,is_negative_val = EncodingMethod_of_response(X_train,\"clean_subcategories\")\n",
    "X_train_subcat_ohe = getting_Response(X_train,\"clean_subcategories\",is_positive_val,is_negative_val)\n",
    "X_test_subcat_ohe = function_tobuildTest(X_train_subcat_ohe,X_test,\"clean_subcategories\")\n",
    "X_cv_subcat_ohe = function_tobuildTest(X_train_subcat_ohe,X_cv,\"clean_subcategories\")\n",
    "\n",
    "pos_dict_score,neg_dict_score = function_to_buildDict(X_train_subcat_ohe)\n",
    "train_t = list(X_train[\"clean_subcategories\"])\n",
    "train_pos_subcat,train_neg_subcat = creatingList(train_t,pos_dict_score,neg_dict_score)\n",
    "pos_dict_score,neg_dict_score = function_to_buildDict(X_test_subcat_ohe)\n",
    "test_t = list(X_test[\"clean_subcategories\"])\n",
    "test_pos_subcat,test_neg_subcat = creatingList(test_t,pos_dict_score,neg_dict_score)\n",
    "pos_dict_score,neg_dict_score = function_to_buildDict(X_cv_subcat_ohe)\n",
    "cv_t = list(X_cv[\"clean_subcategories\"])\n",
    "cv_pos_subcat,cv_neg_subcat = creatingList(cv_t,pos_dict_score,neg_dict_score)\n",
    "\n",
    "\n",
    "print(len(train_pos_subcat),len(train_neg_subcat))\n",
    "print(len(test_pos_subcat),len(test_neg_subcat))\n",
    "print(len(cv_pos_subcat),len(cv_neg_subcat))"
   ]
  },
  {
   "cell_type": "code",
   "execution_count": 53,
   "metadata": {},
   "outputs": [],
   "source": [
    "train_pos_subcat = np.array(train_pos_subcat)\n",
    "train_pos_subcat = train_pos_subcat.reshape((22445,1))\n",
    "train_neg_subcat = np.array(train_neg_subcat)\n",
    "train_neg_subcat = train_neg_subcat.reshape((22445,1))\n",
    "\n",
    "test_pos_subcat = np.array(test_pos_subcat)\n",
    "test_pos_subcat = test_pos_subcat.reshape((16500,1))\n",
    "test_neg_subcat = np.array(test_neg_subcat)\n",
    "test_neg_subcat = test_neg_subcat.reshape((16500,1))\n",
    "\n",
    "\n",
    "cv_pos_subcat = np.array(cv_pos_subcat)\n",
    "cv_pos_subcat = cv_pos_subcat.reshape((11055,1))\n",
    "cv_neg_subcat = np.array(cv_neg_subcat)\n",
    "cv_neg_subcat = cv_neg_subcat.reshape((11055,1))\n"
   ]
  },
  {
   "cell_type": "code",
   "execution_count": 60,
   "metadata": {},
   "outputs": [],
   "source": [
    "X_tr  = hstack((X_train_ess_tfidf,X_train_price_norm,X_train_noprojects_norm,X_train_pos_norm,X_train_neg_norm,X_train_neu_norm,X_train_comp_norm,train_pos_teacher,train_neg_teacher,train_pos_school,train_neg_school,train_pos_cleancat,train_neg_cleancat,train_pos_subcat,train_neg_subcat)).tocsr()\n",
    "\n",
    "X_te  = hstack((X_test_ess_tfidf,X_test_price_norm,X_test_noprojects_norm,X_test_pos_norm,X_test_neg_norm,X_test_neu_norm,X_test_comp_norm,test_pos_teacher,test_neg_teacher,test_pos_school,test_neg_school,test_pos_cleancat,test_neg_cleancat,test_pos_subcat,test_neg_subcat)).tocsr()\n",
    "\n",
    "X_cv  = hstack((X_cv_ess_tfidf,X_cv_price_norm,X_cv_noprojects_norm,X_cv_pos_norm,X_cv_neg_norm,X_cv_neu_norm,X_cv_comp_norm,cv_pos_teacher,cv_neg_teacher,cv_pos_school,cv_neg_school,cv_pos_cleancat,cv_neg_cleancat,cv_pos_subcat,cv_neg_subcat)).tocsr()"
   ]
  },
  {
   "cell_type": "code",
   "execution_count": 61,
   "metadata": {},
   "outputs": [],
   "source": [
    "X_tr1=coo_matrix(X_train_price_norm)\n",
    "X_tr2=coo_matrix(X_train_noprojects_norm)\n",
    "X_tr3=coo_matrix(X_train_pos_norm)\n",
    "X_tr4=coo_matrix(X_train_neg_norm)\n",
    "X_tr5=coo_matrix(X_train_neu_norm)\n",
    "X_tr6=coo_matrix(X_train_comp_norm)\n",
    "X_tr7=coo_matrix(train_pos_teacher)\n",
    "X_tr8=coo_matrix(train_neg_teacher)\n",
    "X_tr9=coo_matrix(train_pos_school)\n",
    "X_tr10=coo_matrix(train_neg_school)\n",
    "X_tr11=coo_matrix(train_pos_cleancat)\n",
    "X_tr12=coo_matrix(train_neg_cleancat)\n",
    "X_tr13=coo_matrix(train_pos_subcat)\n",
    "X_tr14=coo_matrix(train_neg_subcat)\n",
    "X_tr15=coo_matrix(X_train_ess_tfidf)\n"
   ]
  },
  {
   "cell_type": "code",
   "execution_count": 63,
   "metadata": {},
   "outputs": [],
   "source": [
    "X_te1=coo_matrix(X_test_price_norm)\n",
    "X_te2=coo_matrix(X_test_noprojects_norm)\n",
    "X_te3=coo_matrix(X_test_pos_norm)\n",
    "X_te4=coo_matrix(X_test_neg_norm)\n",
    "X_te5=coo_matrix(X_test_neu_norm)\n",
    "X_te6=coo_matrix(X_test_comp_norm)\n",
    "X_te7=coo_matrix(test_pos_teacher)\n",
    "X_te8=coo_matrix(test_neg_teacher)\n",
    "X_te9=coo_matrix(test_pos_school)\n",
    "X_te10=coo_matrix(test_neg_school)\n",
    "X_te11=coo_matrix(test_pos_cleancat)\n",
    "X_te12=coo_matrix(test_neg_cleancat)\n",
    "X_te13=coo_matrix(test_pos_subcat)\n",
    "X_te14=coo_matrix(test_neg_subcat)\n",
    "X_te15=coo_matrix(X_test_ess_tfidf)\n"
   ]
  },
  {
   "cell_type": "code",
   "execution_count": 64,
   "metadata": {},
   "outputs": [],
   "source": [
    "X_cv1=coo_matrix(X_cv_price_norm)\n",
    "X_cv2=coo_matrix(X_cv_noprojects_norm)\n",
    "X_cv3=coo_matrix(X_cv_pos_norm)\n",
    "X_cv4=coo_matrix(X_cv_neg_norm)\n",
    "X_cv5=coo_matrix(X_cv_neu_norm)\n",
    "X_cv6=coo_matrix(X_cv_comp_norm)\n",
    "X_cv7=coo_matrix(cv_pos_teacher)\n",
    "X_cv8=coo_matrix(cv_neg_teacher)\n",
    "X_cv9=coo_matrix(cv_pos_school)\n",
    "X_cv10=coo_matrix(cv_neg_school)\n",
    "X_cv11=coo_matrix(cv_pos_cleancat)\n",
    "X_cv12=coo_matrix(cv_neg_cleancat)\n",
    "X_cv13=coo_matrix(cv_pos_subcat)\n",
    "X_cv14=coo_matrix(cv_neg_subcat)\n",
    "X_cv15=coo_matrix(X_cv_ess_tfidf)\n"
   ]
  },
  {
   "cell_type": "code",
   "execution_count": 65,
   "metadata": {},
   "outputs": [],
   "source": [
    "X_tr_2  = hstack((X_tr1,X_tr2,X_tr3,X_tr4,X_tr5,X_tr6,X_tr7,X_tr8,X_tr9,X_tr10,X_tr11,X_tr12,X_tr13,X_tr14,X_tr15)).tocsr()\n",
    "X_te_2  = hstack((X_te1,X_te2,X_te3,X_te4,X_te5,X_te6,X_te7,X_te8,X_te9,X_te10,X_te11,X_te12,X_te13,X_te14,X_te15)).tocsr()\n",
    "X_cv_2  = hstack((X_cv1,X_cv2,X_cv3,X_cv4,X_cv5,X_cv6,X_cv7,X_cv8,X_cv9,X_cv10,X_cv11,X_cv12,X_cv13,X_cv14,X_cv15)).tocsr()"
   ]
  },
  {
   "cell_type": "code",
   "execution_count": null,
   "metadata": {},
   "outputs": [],
   "source": []
  },
  {
   "cell_type": "code",
   "execution_count": null,
   "metadata": {},
   "outputs": [],
   "source": []
  },
  {
   "cell_type": "markdown",
   "metadata": {},
   "source": [
    "## Set 1 Model"
   ]
  },
  {
   "cell_type": "code",
   "execution_count": 66,
   "metadata": {},
   "outputs": [
    {
     "name": "stderr",
     "output_type": "stream",
     "text": [
      "C:\\Users\\dipali\\Anaconda3\\lib\\site-packages\\sklearn\\model_selection\\_search.py:289: UserWarning: The total space of parameters 8 is smaller than n_iter=10. Running 8 iterations. For exhaustive searches, use GridSearchCV.\n",
      "  % (grid_size, self.n_iter, grid_size), UserWarning)\n"
     ]
    },
    {
     "name": "stdout",
     "output_type": "stream",
     "text": [
      "Fitting 3 folds for each of 8 candidates, totalling 24 fits\n",
      "[CV 1/3; 1/8] START max_depth=1, n_estimators=10................................\n",
      "[CV 1/3; 1/8] END max_depth=1, n_estimators=10;, score=(train=0.665, test=0.656) total time=   3.2s\n",
      "[CV 2/3; 1/8] START max_depth=1, n_estimators=10................................\n",
      "[CV 2/3; 1/8] END max_depth=1, n_estimators=10;, score=(train=0.667, test=0.657) total time=   3.1s\n",
      "[CV 3/3; 1/8] START max_depth=1, n_estimators=10................................\n",
      "[CV 3/3; 1/8] END max_depth=1, n_estimators=10;, score=(train=0.677, test=0.650) total time=   3.0s\n",
      "[CV 1/3; 2/8] START max_depth=1, n_estimators=20................................\n",
      "[CV 1/3; 2/8] END max_depth=1, n_estimators=20;, score=(train=0.694, test=0.674) total time=   6.0s\n",
      "[CV 2/3; 2/8] START max_depth=1, n_estimators=20................................\n",
      "[CV 2/3; 2/8] END max_depth=1, n_estimators=20;, score=(train=0.694, test=0.668) total time=   6.1s\n",
      "[CV 3/3; 2/8] START max_depth=1, n_estimators=20................................\n",
      "[CV 3/3; 2/8] END max_depth=1, n_estimators=20;, score=(train=0.703, test=0.668) total time=   6.0s\n",
      "[CV 1/3; 3/8] START max_depth=1, n_estimators=50................................\n",
      "[CV 1/3; 3/8] END max_depth=1, n_estimators=50;, score=(train=0.730, test=0.673) total time=  15.9s\n",
      "[CV 2/3; 3/8] START max_depth=1, n_estimators=50................................\n",
      "[CV 2/3; 3/8] END max_depth=1, n_estimators=50;, score=(train=0.732, test=0.672) total time=  14.9s\n",
      "[CV 3/3; 3/8] START max_depth=1, n_estimators=50................................\n",
      "[CV 3/3; 3/8] END max_depth=1, n_estimators=50;, score=(train=0.738, test=0.676) total time=  14.8s\n",
      "[CV 1/3; 4/8] START max_depth=1, n_estimators=100...............................\n",
      "[CV 1/3; 4/8] END max_depth=1, n_estimators=100;, score=(train=0.772, test=0.666) total time=  30.5s\n",
      "[CV 2/3; 4/8] START max_depth=1, n_estimators=100...............................\n",
      "[CV 2/3; 4/8] END max_depth=1, n_estimators=100;, score=(train=0.768, test=0.669) total time=  32.2s\n",
      "[CV 3/3; 4/8] START max_depth=1, n_estimators=100...............................\n",
      "[CV 3/3; 4/8] END max_depth=1, n_estimators=100;, score=(train=0.776, test=0.674) total time=  33.1s\n",
      "[CV 1/3; 5/8] START max_depth=5, n_estimators=10................................\n",
      "[CV 1/3; 5/8] END max_depth=5, n_estimators=10;, score=(train=0.753, test=0.636) total time=  15.3s\n",
      "[CV 2/3; 5/8] START max_depth=5, n_estimators=10................................\n",
      "[CV 2/3; 5/8] END max_depth=5, n_estimators=10;, score=(train=0.748, test=0.648) total time=  15.4s\n",
      "[CV 3/3; 5/8] START max_depth=5, n_estimators=10................................\n",
      "[CV 3/3; 5/8] END max_depth=5, n_estimators=10;, score=(train=0.761, test=0.645) total time=  15.4s\n",
      "[CV 1/3; 6/8] START max_depth=5, n_estimators=20................................\n",
      "[CV 1/3; 6/8] END max_depth=5, n_estimators=20;, score=(train=0.799, test=0.645) total time=  31.4s\n",
      "[CV 2/3; 6/8] START max_depth=5, n_estimators=20................................\n",
      "[CV 2/3; 6/8] END max_depth=5, n_estimators=20;, score=(train=0.799, test=0.647) total time=  30.4s\n",
      "[CV 3/3; 6/8] START max_depth=5, n_estimators=20................................\n",
      "[CV 3/3; 6/8] END max_depth=5, n_estimators=20;, score=(train=0.809, test=0.642) total time=  29.6s\n",
      "[CV 1/3; 7/8] START max_depth=5, n_estimators=50................................\n",
      "[CV 1/3; 7/8] END max_depth=5, n_estimators=50;, score=(train=0.882, test=0.634) total time= 1.3min\n",
      "[CV 2/3; 7/8] START max_depth=5, n_estimators=50................................\n",
      "[CV 2/3; 7/8] END max_depth=5, n_estimators=50;, score=(train=0.880, test=0.640) total time= 1.3min\n",
      "[CV 3/3; 7/8] START max_depth=5, n_estimators=50................................\n",
      "[CV 3/3; 7/8] END max_depth=5, n_estimators=50;, score=(train=0.889, test=0.625) total time= 1.3min\n",
      "[CV 1/3; 8/8] START max_depth=5, n_estimators=100...............................\n",
      "[CV 1/3; 8/8] END max_depth=5, n_estimators=100;, score=(train=0.951, test=0.622) total time= 2.6min\n",
      "[CV 2/3; 8/8] START max_depth=5, n_estimators=100...............................\n",
      "[CV 2/3; 8/8] END max_depth=5, n_estimators=100;, score=(train=0.951, test=0.619) total time= 2.6min\n",
      "[CV 3/3; 8/8] START max_depth=5, n_estimators=100...............................\n",
      "[CV 3/3; 8/8] END max_depth=5, n_estimators=100;, score=(train=0.957, test=0.622) total time= 2.6min\n"
     ]
    }
   ],
   "source": [
    "from sklearn.model_selection import RandomizedSearchCV\n",
    "from sklearn.ensemble import GradientBoostingClassifier\n",
    "decisiontree = GradientBoostingClassifier(random_state=15,learning_rate = 1)\n",
    "distribution = {\"max_depth\":[1,5],\"n_estimators\" : [10,20,50,100]}\n",
    "model = RandomizedSearchCV(decisiontree,distribution,cv = 3,scoring=\"roc_auc\",return_train_score = True,verbose = 10)\n",
    "model_1 = model.fit(X_tr,y_train)"
   ]
  },
  {
   "cell_type": "code",
   "execution_count": 67,
   "metadata": {},
   "outputs": [
    {
     "data": {
      "text/plain": [
       "['gbdtset1.pkl']"
      ]
     },
     "execution_count": 67,
     "metadata": {},
     "output_type": "execute_result"
    }
   ],
   "source": [
    "import joblib\n",
    "joblib.dump(model_1, 'gbdtset1.pkl')"
   ]
  },
  {
   "cell_type": "code",
   "execution_count": 68,
   "metadata": {},
   "outputs": [],
   "source": [
    "rslt = pd.DataFrame.from_dict(model_1.cv_results_)\n",
    "auc_tr = rslt['mean_train_score']\n",
    "auc_cv = rslt['mean_test_score']\n",
    "depth = rslt['param_max_depth']\n",
    "split = rslt['param_n_estimators']"
   ]
  },
  {
   "cell_type": "code",
   "execution_count": 69,
   "metadata": {},
   "outputs": [
    {
     "data": {
      "text/plain": [
       "RandomizedSearchCV(cv=3,\n",
       "                   estimator=GradientBoostingClassifier(learning_rate=1,\n",
       "                                                        random_state=15),\n",
       "                   param_distributions={'max_depth': [1, 5],\n",
       "                                        'n_estimators': [10, 20, 50, 100]},\n",
       "                   return_train_score=True, scoring='roc_auc', verbose=10)"
      ]
     },
     "execution_count": 69,
     "metadata": {},
     "output_type": "execute_result"
    }
   ],
   "source": [
    "model_1"
   ]
  },
  {
   "cell_type": "code",
   "execution_count": 70,
   "metadata": {},
   "outputs": [
    {
     "data": {
      "image/png": "[encoded data removed]",
      "text/plain": [
       "<Figure size 1440x432 with 4 Axes>"
      ]
     },
     "metadata": {},
     "output_type": "display_data"
    }
   ],
   "source": [
    "df = pd.DataFrame(model_1.cv_results_).groupby(['param_n_estimators', 'param_max_depth']).max().unstack()[['mean_test_score', 'mean_train_score']]\n",
    "fig,ax = plt.subplots(1,2, figsize=(20,6))\n",
    "sns.heatmap(df.mean_train_score, annot = True, fmt='.4g', ax=ax[0],cmap=\"BuPu\", vmin=0, vmax=0.5)\n",
    "sns.heatmap(df.mean_test_score, annot = True, fmt='.4g', ax=ax[1],cmap=\"BuPu\", vmin=0, vmax=0.5)\n",
    "ax[0].set_title('Train Set')\n",
    "ax[1].set_title('Test Set')\n",
    "plt.show()\n",
    "\n"
   ]
  },
  {
   "cell_type": "code",
   "execution_count": 71,
   "metadata": {},
   "outputs": [
    {
     "data": {
      "text/plain": [
       "{'n_estimators': 50, 'max_depth': 1}"
      ]
     },
     "execution_count": 71,
     "metadata": {},
     "output_type": "execute_result"
    }
   ],
   "source": [
    "model_1.best_params_"
   ]
  },
  {
   "cell_type": "markdown",
   "metadata": {},
   "source": [
    "def batch_predict(clf, data):\n",
    "    y_data_pred = []\n",
    "    tr_loop = data.shape[0] - data.shape[0]%1000\n",
    "    for i in range(0, tr_loop, 1000):\n",
    "        y_data_pred.extend(clf.predict_proba(data[i:i+1000])[:,1])\n",
    "    y_data_pred.extend(clf.predict_proba(data[tr_loop:])[:,1])\n",
    "    return y_data_pred"
   ]
  },
  {
   "cell_type": "code",
   "execution_count": 75,
   "metadata": {},
   "outputs": [
    {
     "data": {
      "text/plain": [
       "GradientBoostingClassifier(max_depth=1, n_estimators=50)"
      ]
     },
     "execution_count": 75,
     "metadata": {},
     "output_type": "execute_result"
    }
   ],
   "source": [
    "from  sklearn.metrics  import roc_curve, auc\n",
    "classifier_for_set1 = GradientBoostingClassifier( n_estimators=50,max_depth = 1)\n",
    "classifier_for_set1.fit(X_tr,y_train)"
   ]
  },
  {
   "cell_type": "code",
   "execution_count": 76,
   "metadata": {},
   "outputs": [
    {
     "data": {
      "image/png": "[encoded data removed]",
      "text/plain": [
       "<Figure size 432x288 with 1 Axes>"
      ]
     },
     "metadata": {},
     "output_type": "display_data"
    }
   ],
   "source": [
    "train_predict = batch_predict(classifier_for_set1,X_tr)\n",
    "test_predict = batch_predict(classifier_for_set1,X_te)\n",
    "train_fpr,train_tpr,train_thresholds = roc_curve(y_train,train_predict)\n",
    "test_fpr,test_tpr,test_thresholds = roc_curve(y_test,test_predict)\n",
    "plt.plot(train_fpr,train_tpr,label=\"train AUC=\"+str(auc(train_fpr,train_tpr)))\n",
    "plt.plot(test_fpr,test_tpr,label=\"test AUC=\"+str(auc(test_fpr,test_tpr)))\n",
    "plt.xlabel(\" hyperparameter_Alpha\")\n",
    "plt.ylabel(\"AUC\")\n",
    "plt.legend()\n",
    "plt.show()"
   ]
  },
  {
   "cell_type": "markdown",
   "metadata": {},
   "source": [
    "## confusion matrix on set 1"
   ]
  },
  {
   "cell_type": "code",
   "execution_count": 77,
   "metadata": {},
   "outputs": [],
   "source": [
    "def find_best_threshold(threshould, fpr, tpr):\n",
    "    t = threshould[np.argmax(tpr*(1-fpr))]\n",
    "    print(\"the maximum value of tpr*(1-fpr)\", max(tpr*(1-fpr)), \"for threshold\", np.round(t,3))\n",
    "    return t\n",
    "\n",
    "def predict_with_best_t(proba, threshould):\n",
    "    predictions = []\n",
    "    for i in proba:\n",
    "        if i>=threshould:\n",
    "            predictions.append(1)\n",
    "        else:\n",
    "            predictions.append(0)\n",
    "    return predictions"
   ]
  },
  {
   "cell_type": "code",
   "execution_count": 78,
   "metadata": {},
   "outputs": [
    {
     "name": "stdout",
     "output_type": "stream",
     "text": [
      "====================================================================================================\n",
      "the maximum value of tpr*(1-fpr) 0.3956182289726005 for threshold 0.835\n",
      "best threshold 0.8354038848376161\n",
      "Train confusion matrix\n",
      "[[ 2161  1434]\n",
      " [ 6444 12406]]\n",
      "Test confusion matrix\n",
      "[[1547 1095]\n",
      " [5170 8688]]\n"
     ]
    }
   ],
   "source": [
    "print(\"=\"*100)\n",
    "from sklearn.metrics import confusion_matrix\n",
    "best_t = find_best_threshold(train_thresholds, train_fpr, train_tpr)\n",
    "print(\"best threshold\",best_t)\n",
    "print(\"Train confusion matrix\")\n",
    "confusion_set1_train = confusion_matrix(y_train, predict_with_best_t(train_predict, best_t))\n",
    "print(confusion_matrix(y_train, predict_with_best_t(train_predict, best_t)))\n",
    "print(\"Test confusion matrix\")\n",
    "confusion_set1_test = confusion_matrix(y_test, predict_with_best_t(test_predict, best_t))\n",
    "print(confusion_matrix(y_test, predict_with_best_t(test_predict, best_t)))"
   ]
  },
  {
   "cell_type": "code",
   "execution_count": 79,
   "metadata": {},
   "outputs": [
    {
     "data": {
      "text/plain": [
       "<AxesSubplot:>"
      ]
     },
     "execution_count": 79,
     "metadata": {},
     "output_type": "execute_result"
    },
    {
     "data": {
      "image/png": "[encoded data removed]",
      "text/plain": [
       "<Figure size 432x288 with 2 Axes>"
      ]
     },
     "metadata": {},
     "output_type": "display_data"
    }
   ],
   "source": [
    "sns.heatmap(confusion_set1_train , annot=True,fmt=\"d\",cmap='BuPu')"
   ]
  },
  {
   "cell_type": "code",
   "execution_count": 80,
   "metadata": {},
   "outputs": [
    {
     "data": {
      "text/plain": [
       "<AxesSubplot:>"
      ]
     },
     "execution_count": 80,
     "metadata": {},
     "output_type": "execute_result"
    },
    {
     "data": {
      "image/png": "[encoded data removed]",
      "text/plain": [
       "<Figure size 432x288 with 2 Axes>"
      ]
     },
     "metadata": {},
     "output_type": "display_data"
    }
   ],
   "source": [
    "sns.heatmap(confusion_set1_test, annot=True,fmt=\"d\",cmap='BuPu')"
   ]
  },
  {
   "cell_type": "markdown",
   "metadata": {},
   "source": [
    "## Set 2 Model"
   ]
  },
  {
   "cell_type": "code",
   "execution_count": 82,
   "metadata": {},
   "outputs": [
    {
     "name": "stderr",
     "output_type": "stream",
     "text": [
      "C:\\Users\\dipali\\Anaconda3\\lib\\site-packages\\sklearn\\model_selection\\_search.py:289: UserWarning: The total space of parameters 8 is smaller than n_iter=10. Running 8 iterations. For exhaustive searches, use GridSearchCV.\n",
      "  % (grid_size, self.n_iter, grid_size), UserWarning)\n"
     ]
    },
    {
     "name": "stdout",
     "output_type": "stream",
     "text": [
      "Fitting 3 folds for each of 8 candidates, totalling 24 fits\n",
      "[CV 1/3; 1/8] START max_depth=1, n_estimators=10................................\n",
      "[CV 1/3; 1/8] END max_depth=1, n_estimators=10;, score=(train=0.665, test=0.656) total time=   3.2s\n",
      "[CV 2/3; 1/8] START max_depth=1, n_estimators=10................................\n",
      "[CV 2/3; 1/8] END max_depth=1, n_estimators=10;, score=(train=0.667, test=0.657) total time=   3.1s\n",
      "[CV 3/3; 1/8] START max_depth=1, n_estimators=10................................\n",
      "[CV 3/3; 1/8] END max_depth=1, n_estimators=10;, score=(train=0.677, test=0.650) total time=   3.0s\n",
      "[CV 1/3; 2/8] START max_depth=1, n_estimators=20................................\n",
      "[CV 1/3; 2/8] END max_depth=1, n_estimators=20;, score=(train=0.694, test=0.674) total time=   6.7s\n",
      "[CV 2/3; 2/8] START max_depth=1, n_estimators=20................................\n",
      "[CV 2/3; 2/8] END max_depth=1, n_estimators=20;, score=(train=0.694, test=0.668) total time=   6.5s\n",
      "[CV 3/3; 2/8] START max_depth=1, n_estimators=20................................\n",
      "[CV 3/3; 2/8] END max_depth=1, n_estimators=20;, score=(train=0.703, test=0.668) total time=   6.1s\n",
      "[CV 1/3; 3/8] START max_depth=1, n_estimators=50................................\n",
      "[CV 1/3; 3/8] END max_depth=1, n_estimators=50;, score=(train=0.730, test=0.673) total time=  16.6s\n",
      "[CV 2/3; 3/8] START max_depth=1, n_estimators=50................................\n",
      "[CV 2/3; 3/8] END max_depth=1, n_estimators=50;, score=(train=0.732, test=0.672) total time=  18.3s\n",
      "[CV 3/3; 3/8] START max_depth=1, n_estimators=50................................\n",
      "[CV 3/3; 3/8] END max_depth=1, n_estimators=50;, score=(train=0.738, test=0.676) total time=  16.2s\n",
      "[CV 1/3; 4/8] START max_depth=1, n_estimators=100...............................\n",
      "[CV 1/3; 4/8] END max_depth=1, n_estimators=100;, score=(train=0.772, test=0.666) total time=  35.3s\n",
      "[CV 2/3; 4/8] START max_depth=1, n_estimators=100...............................\n",
      "[CV 2/3; 4/8] END max_depth=1, n_estimators=100;, score=(train=0.768, test=0.669) total time=  32.9s\n",
      "[CV 3/3; 4/8] START max_depth=1, n_estimators=100...............................\n",
      "[CV 3/3; 4/8] END max_depth=1, n_estimators=100;, score=(train=0.776, test=0.674) total time=  35.1s\n",
      "[CV 1/3; 5/8] START max_depth=5, n_estimators=10................................\n",
      "[CV 1/3; 5/8] END max_depth=5, n_estimators=10;, score=(train=0.757, test=0.639) total time=  16.8s\n",
      "[CV 2/3; 5/8] START max_depth=5, n_estimators=10................................\n",
      "[CV 2/3; 5/8] END max_depth=5, n_estimators=10;, score=(train=0.748, test=0.648) total time=  15.1s\n",
      "[CV 3/3; 5/8] START max_depth=5, n_estimators=10................................\n",
      "[CV 3/3; 5/8] END max_depth=5, n_estimators=10;, score=(train=0.761, test=0.644) total time=  15.1s\n",
      "[CV 1/3; 6/8] START max_depth=5, n_estimators=20................................\n",
      "[CV 1/3; 6/8] END max_depth=5, n_estimators=20;, score=(train=0.793, test=0.638) total time=  33.6s\n",
      "[CV 2/3; 6/8] START max_depth=5, n_estimators=20................................\n",
      "[CV 2/3; 6/8] END max_depth=5, n_estimators=20;, score=(train=0.799, test=0.648) total time=  30.9s\n",
      "[CV 3/3; 6/8] START max_depth=5, n_estimators=20................................\n",
      "[CV 3/3; 6/8] END max_depth=5, n_estimators=20;, score=(train=0.809, test=0.639) total time=  32.1s\n",
      "[CV 1/3; 7/8] START max_depth=5, n_estimators=50................................\n",
      "[CV 1/3; 7/8] END max_depth=5, n_estimators=50;, score=(train=0.873, test=0.627) total time= 1.3min\n",
      "[CV 2/3; 7/8] START max_depth=5, n_estimators=50................................\n",
      "[CV 2/3; 7/8] END max_depth=5, n_estimators=50;, score=(train=0.874, test=0.639) total time= 1.3min\n",
      "[CV 3/3; 7/8] START max_depth=5, n_estimators=50................................\n",
      "[CV 3/3; 7/8] END max_depth=5, n_estimators=50;, score=(train=0.887, test=0.625) total time= 1.3min\n",
      "[CV 1/3; 8/8] START max_depth=5, n_estimators=100...............................\n",
      "[CV 1/3; 8/8] END max_depth=5, n_estimators=100;, score=(train=0.946, test=0.612) total time= 2.6min\n",
      "[CV 2/3; 8/8] START max_depth=5, n_estimators=100...............................\n",
      "[CV 2/3; 8/8] END max_depth=5, n_estimators=100;, score=(train=0.950, test=0.621) total time= 2.7min\n",
      "[CV 3/3; 8/8] START max_depth=5, n_estimators=100...............................\n",
      "[CV 3/3; 8/8] END max_depth=5, n_estimators=100;, score=(train=0.957, test=0.616) total time= 2.6min\n"
     ]
    }
   ],
   "source": [
    "decisiontree = GradientBoostingClassifier(random_state=15,learning_rate = 1)\n",
    "distribution = {\"max_depth\":[1,5],\"n_estimators\" : [10,20,50,100]}\n",
    "model = RandomizedSearchCV(decisiontree,distribution,cv = 3,scoring=\"roc_auc\",return_train_score = True,verbose = 10)\n",
    "model_2 = model.fit(X_tr_2,y_train)"
   ]
  },
  {
   "cell_type": "code",
   "execution_count": 83,
   "metadata": {},
   "outputs": [
    {
     "data": {
      "text/plain": [
       "['gbdtset2.pkl']"
      ]
     },
     "execution_count": 83,
     "metadata": {},
     "output_type": "execute_result"
    }
   ],
   "source": [
    "\n",
    "joblib.dump(model_2, 'gbdtset2.pkl')"
   ]
  },
  {
   "cell_type": "code",
   "execution_count": 84,
   "metadata": {},
   "outputs": [
    {
     "data": {
      "image/png": "[encoded data removed]",
      "text/plain": [
       "<Figure size 1440x432 with 4 Axes>"
      ]
     },
     "metadata": {},
     "output_type": "display_data"
    }
   ],
   "source": [
    "df = pd.DataFrame(model_2.cv_results_).groupby(['param_n_estimators', 'param_max_depth']).max().unstack()[['mean_test_score', 'mean_train_score']]\n",
    "fig,ax = plt.subplots(1,2, figsize=(20,6))\n",
    "sns.heatmap(df.mean_train_score, annot = True, fmt='.4g', ax=ax[0],cmap=\"BuPu\", vmin=0, vmax=0.5)\n",
    "sns.heatmap(df.mean_test_score, annot = True, fmt='.4g', ax=ax[1],cmap=\"BuPu\", vmin=0, vmax=0.5)\n",
    "ax[0].set_title('Train Set')\n",
    "ax[1].set_title('Test Set')\n",
    "plt.show()\n",
    "\n"
   ]
  },
  {
   "cell_type": "code",
   "execution_count": 85,
   "metadata": {},
   "outputs": [
    {
     "data": {
      "text/plain": [
       "{'n_estimators': 50, 'max_depth': 1}"
      ]
     },
     "execution_count": 85,
     "metadata": {},
     "output_type": "execute_result"
    }
   ],
   "source": [
    "model_2.best_params_"
   ]
  },
  {
   "cell_type": "code",
   "execution_count": 86,
   "metadata": {},
   "outputs": [
    {
     "data": {
      "text/plain": [
       "GradientBoostingClassifier(max_depth=1, n_estimators=50)"
      ]
     },
     "execution_count": 86,
     "metadata": {},
     "output_type": "execute_result"
    }
   ],
   "source": [
    "from  sklearn.metrics  import roc_curve, auc\n",
    "classifier_for_set2 = GradientBoostingClassifier( n_estimators=50,max_depth = 1)\n",
    "classifier_for_set2.fit(X_tr_2,y_train)"
   ]
  },
  {
   "cell_type": "code",
   "execution_count": 88,
   "metadata": {},
   "outputs": [
    {
     "data": {
      "image/png": "[encoded data removed]",
      "text/plain": [
       "<Figure size 432x288 with 1 Axes>"
      ]
     },
     "metadata": {},
     "output_type": "display_data"
    }
   ],
   "source": [
    "train_predict_2 = batch_predict(classifier_for_set2,X_tr_2)\n",
    "test_predict_2 = batch_predict(classifier_for_set2,X_te_2)\n",
    "train_fpr_2,train_tpr_2,train_thresholds_2 = roc_curve(y_train,train_predict_2)\n",
    "test_fpr_2,test_tpr_2,test_thresholds_2 = roc_curve(y_test,test_predict_2)\n",
    "plt.plot(train_fpr_2,train_tpr_2,label=\"train AUC=\"+str(auc(train_fpr_2,train_tpr_2)))\n",
    "plt.plot(test_fpr_2,test_tpr_2,label=\"test AUC=\"+str(auc(test_fpr_2,test_tpr_2)))\n",
    "plt.legend()\n",
    "plt.show()"
   ]
  },
  {
   "cell_type": "code",
   "execution_count": 89,
   "metadata": {},
   "outputs": [
    {
     "name": "stdout",
     "output_type": "stream",
     "text": [
      "====================================================================================================\n",
      "the maximum value of tpr*(1-fpr) 0.3956182289726005 for threshold 0.835\n",
      "best threshold 0.8354038848376161\n",
      "Train confusion matrix\n",
      "[[ 2161  1434]\n",
      " [ 6444 12406]]\n",
      "Test confusion matrix\n",
      "[[1547 1095]\n",
      " [5170 8688]]\n"
     ]
    }
   ],
   "source": [
    "print(\"=\"*100)\n",
    "from sklearn.metrics import confusion_matrix\n",
    "best_t_2 = find_best_threshold(train_thresholds_2, train_fpr_2, train_tpr_2)\n",
    "print(\"best threshold\",best_t_2)\n",
    "print(\"Train confusion matrix\")\n",
    "confusion_set2_train = confusion_matrix(y_train, predict_with_best_t(train_predict_2, best_t_2))\n",
    "print(confusion_matrix(y_train, predict_with_best_t(train_predict, best_t)))\n",
    "print(\"Test confusion matrix\")\n",
    "confusion_set2_test = confusion_matrix(y_test, predict_with_best_t(test_predict_2, best_t_2))\n",
    "print(confusion_matrix(y_test, predict_with_best_t(test_predict, best_t)))"
   ]
  },
  {
   "cell_type": "code",
   "execution_count": 90,
   "metadata": {},
   "outputs": [
    {
     "data": {
      "text/plain": [
       "<AxesSubplot:>"
      ]
     },
     "execution_count": 90,
     "metadata": {},
     "output_type": "execute_result"
    },
    {
     "data": {
      "image/png": "[encoded data removed]",
      "text/plain": [
       "<Figure size 432x288 with 2 Axes>"
      ]
     },
     "metadata": {},
     "output_type": "display_data"
    }
   ],
   "source": [
    "sns.heatmap(confusion_set2_train, annot=True,fmt=\"d\",cmap='Blues')"
   ]
  },
  {
   "cell_type": "code",
   "execution_count": 91,
   "metadata": {},
   "outputs": [
    {
     "data": {
      "text/plain": [
       "<AxesSubplot:>"
      ]
     },
     "execution_count": 91,
     "metadata": {},
     "output_type": "execute_result"
    },
    {
     "data": {
      "image/png": "[encoded data removed]",
      "text/plain": [
       "<Figure size 432x288 with 2 Axes>"
      ]
     },
     "metadata": {},
     "output_type": "display_data"
    }
   ],
   "source": [
    "sns.heatmap(confusion_set2_test, annot=True,fmt=\"d\",cmap='Blues')"
   ]
  },
  {
   "cell_type": "markdown",
   "metadata": {
    "colab_type": "text",
    "id": "YhFN-lDWsc4G"
   },
   "source": [
    "<h1> Summary</h1>"
   ]
  },
  {
   "cell_type": "code",
   "execution_count": 95,
   "metadata": {},
   "outputs": [
    {
     "name": "stdout",
     "output_type": "stream",
     "text": [
      "+-----------+------------+--------------+----------+\n",
      "| vectorize | max_Deptyh | n_estimators | test_Auc |\n",
      "+-----------+------------+--------------+----------+\n",
      "|   TFIDF   |     1      |      50      |   0.64   |\n",
      "|  TFIDFW2V |     1      |      50      |   0.64   |\n",
      "+-----------+------------+--------------+----------+\n"
     ]
    }
   ],
   "source": [
    "table = PrettyTable()\n",
    "table.field_names = (\"vectorize\",\"max_Deptyh\",\"n_estimators\",\"test_Auc\")\n",
    "table.add_row([\"TFIDF\",\"1\",\"50\",\"0.64\"])\n",
    "table.add_row([\"TFIDFW2V\",\"1\",\"50\",\"0.64\"])\n",
    "print(table)"
   ]
  },
  {
   "cell_type": "markdown",
   "metadata": {},
   "source": [
    "### Reference"
   ]
  },
  {
   "cell_type": "code",
   "execution_count": null,
   "metadata": {},
   "outputs": [],
   "source": [
    "# https://stackoverflow.com/questions/61748441/how-to-fix-the-values-displayed-in-a-confusion-matrix-in-exponential-form-to-nor\n",
    "# https://stackoverflow.com/questions/55663030/plotting-two-heat-maps-side-by-side-in-matplotlib\n",
    "#https://blog.csdn.net/w55100/article/details/90369779\n"
   ]
  }
 ],
 "metadata": {
  "colab": {
   "collapsed_sections": [],
   "name": "11_Assignment_GBDT_Instructions.ipynb",
   "provenance": [],
   "version": "0.3.2"
  },
  "kernelspec": {
   "display_name": "Python 3",
   "language": "python",
   "name": "python3"
  },
  "language_info": {
   "codemirror_mode": {
    "name": "ipython",
    "version": 3
   },
   "file_extension": ".py",
   "mimetype": "text/x-python",
   "name": "python",
   "nbconvert_exporter": "python",
   "pygments_lexer": "ipython3",
   "version": "3.6.5"
  }
 },
 "nbformat": 4,
 "nbformat_minor": 1
}
